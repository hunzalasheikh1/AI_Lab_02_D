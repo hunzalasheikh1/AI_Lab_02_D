{
  "cells": [
    {
      "cell_type": "markdown",
      "metadata": {
        "id": "v8rqnoOM0NqI"
      },
      "source": [
        "# TASK 1\n",
        "dataset link : https://raw.githubusercontent.com/TirendazAcademy/PANDAS-TUTORIAL/main/DataSets/vgsalesGlobale.csv\n",
        "#Exercise\n",
        "Use the dataset of Game, we have explored earlier and perform following operations.\n",
        "\n",
        "* Calculate the total global sales for all games in the dataset.\n",
        "* Find the game with the highest global sales.\n",
        "* Determine the average sales for each region (NA_Sales, EU_Sales, JP_Sales, Other_Sales).\n",
        "* Find the top 5 most popular game genres based on global sales.\n",
        "* Calculate the total sales for each genre in each region and find the most popular genre in North America (NA_Sales).\n",
        "* Display last 10 rows.\n",
        "* Determine the top 3 gaming platforms with the highest global sales.\n",
        "* Calculate the market share (percentage of global sales) for each genre.\n",
        "* Calculate the correlation coefficient between NA_Sales and EU_Sales. (.corr function)"
      ]
    },
    {
      "cell_type": "code",
      "execution_count": 1,
      "metadata": {},
      "outputs": [
        {
          "name": "stdout",
          "output_type": "stream",
          "text": [
            "Total Global Sales: 8920.44\n",
            "Game with highest global sales: Wii Sports with 82.74 million copies\n",
            "Average sales per region:\n",
            "NA_Sales       0.264667\n",
            "EU_Sales       0.146652\n",
            "JP_Sales       0.077782\n",
            "Other_Sales    0.048063\n",
            "dtype: float64\n",
            "Top 5 most popular game genres by global sales:\n",
            "Genre\n",
            "Action          1751.18\n",
            "Sports          1330.93\n",
            "Shooter         1037.37\n",
            "Role-Playing     927.37\n",
            "Platform         831.37\n",
            "Name: Global_Sales, dtype: float64\n",
            "Most popular genre in North America: Action\n",
            "Last 10 rows of the dataset:\n",
            "        Rank                                               Name Platform  \\\n",
            "16588  16591                                   Mega Brain Boost       DS   \n",
            "16589  16592  Chou Ezaru wa Akai Hana: Koi wa Tsuki ni Shiru...      PSV   \n",
            "16590  16593  Eiyuu Densetsu: Sora no Kiseki Material Collec...      PSP   \n",
            "16591  16594                                Myst IV: Revelation       PC   \n",
            "16592  16595                                           Plushees       DS   \n",
            "16593  16596                 Woody Woodpecker in Crazy Castle 5      GBA   \n",
            "16594  16597                      Men in Black II: Alien Escape       GC   \n",
            "16595  16598   SCORE International Baja 1000: The Official Game      PS2   \n",
            "16596  16599                                         Know How 2       DS   \n",
            "16597  16600                                   Spirits & Spells      GBA   \n",
            "\n",
            "         Year         Genre              Publisher  NA_Sales  EU_Sales  \\\n",
            "16588  2008.0        Puzzle  Majesco Entertainment      0.01      0.00   \n",
            "16589  2016.0        Action        dramatic create      0.00      0.00   \n",
            "16590  2007.0  Role-Playing     Falcom Corporation      0.00      0.00   \n",
            "16591  2004.0     Adventure                Ubisoft      0.01      0.00   \n",
            "16592  2008.0    Simulation              Destineer      0.01      0.00   \n",
            "16593  2002.0      Platform                  Kemco      0.01      0.00   \n",
            "16594  2003.0       Shooter             Infogrames      0.01      0.00   \n",
            "16595  2008.0        Racing             Activision      0.00      0.00   \n",
            "16596  2010.0        Puzzle               7G//AMES      0.00      0.01   \n",
            "16597  2003.0      Platform                Wanadoo      0.01      0.00   \n",
            "\n",
            "       JP_Sales  Other_Sales  Global_Sales  \n",
            "16588      0.00          0.0          0.01  \n",
            "16589      0.01          0.0          0.01  \n",
            "16590      0.01          0.0          0.01  \n",
            "16591      0.00          0.0          0.01  \n",
            "16592      0.00          0.0          0.01  \n",
            "16593      0.00          0.0          0.01  \n",
            "16594      0.00          0.0          0.01  \n",
            "16595      0.00          0.0          0.01  \n",
            "16596      0.00          0.0          0.01  \n",
            "16597      0.00          0.0          0.01  \n",
            "Top 3 platforms with highest global sales:\n",
            "Platform\n",
            "PS2     1255.64\n",
            "X360     979.96\n",
            "PS3      957.84\n",
            "Name: Global_Sales, dtype: float64\n",
            "Market share percentage for each genre:\n",
            "Genre\n",
            "Action          19.631094\n",
            "Adventure        2.679688\n",
            "Fighting         5.032375\n",
            "Misc             9.079821\n",
            "Platform         9.319832\n",
            "Puzzle           2.745941\n",
            "Racing           8.206322\n",
            "Role-Playing    10.396012\n",
            "Shooter         11.629135\n",
            "Simulation       4.396644\n",
            "Sports          14.920004\n",
            "Strategy         1.963132\n",
            "Name: Global_Sales, dtype: float64\n",
            "Correlation coefficient between NA_Sales and EU_Sales: 0.767726748370264\n"
          ]
        }
      ],
      "source": [
        "import pandas as pd\n",
        "\n",
        "\n",
        "\n",
        "df = pd.read_csv('vgsalesGlobale.csv')\n",
        "\n",
        "total_global_sales = df['Global_Sales'].sum()\n",
        "print(f\"Total Global Sales: {total_global_sales}\")\n",
        "\n",
        "highest_sales_game = df.loc[df['Global_Sales'].idxmax()]\n",
        "print(f\"Game with highest global sales: {highest_sales_game['Name']} with {highest_sales_game['Global_Sales']} million copies\")\n",
        "\n",
        "average_sales_per_region = df[['NA_Sales', 'EU_Sales', 'JP_Sales', 'Other_Sales']].mean()\n",
        "print(f\"Average sales per region:\\n{average_sales_per_region}\")\n",
        "\n",
        "\n",
        "top_5_genres_by_sales = df.groupby('Genre')['Global_Sales'].sum().sort_values(ascending=False).head(5)\n",
        "print(f\"Top 5 most popular game genres by global sales:\\n{top_5_genres_by_sales}\")\n",
        "\n",
        "\n",
        "total_sales_per_genre_per_region = df.groupby('Genre')[['NA_Sales', 'EU_Sales', 'JP_Sales', 'Other_Sales']].sum()\n",
        "most_popular_genre_na = total_sales_per_genre_per_region['NA_Sales'].idxmax()\n",
        "print(f\"Most popular genre in North America: {most_popular_genre_na}\")\n",
        "\n",
        "last_10_rows = df.tail(10)\n",
        "print(f\"Last 10 rows of the dataset:\\n{last_10_rows}\")\n",
        "\n",
        "\n",
        "top_3_platforms_by_sales = df.groupby('Platform')['Global_Sales'].sum().sort_values(ascending=False).head(3)\n",
        "print(f\"Top 3 platforms with highest global sales:\\n{top_3_platforms_by_sales}\")\n",
        "\n",
        "\n",
        "genre_sales = df.groupby('Genre')['Global_Sales'].sum()\n",
        "total_sales = genre_sales.sum()\n",
        "market_share_per_genre = (genre_sales / total_sales) * 100\n",
        "print(f\"Market share percentage for each genre:\\n{market_share_per_genre}\")\n",
        "\n",
        "correlation_na_eu = df['NA_Sales'].corr(df['EU_Sales'])\n",
        "print(f\"Correlation coefficient between NA_Sales and EU_Sales: {correlation_na_eu}\")\n"
      ]
    },
    {
      "cell_type": "markdown",
      "metadata": {
        "id": "TAcoA0P60GrS"
      },
      "source": [
        "## Task 2 English-Spanish Dictionary\n",
        "You are creating a basic English-Spanish dictionary that allows users to look up English words and find their Spanish translations.\n",
        "\n",
        "\n",
        "### Tasks\n",
        "* Create a dictionary where English words are keys and their Spanish translations are values.\n",
        "* Ask the user to input an English word.\n",
        "* Check if the word exists in the dictionary.\n",
        "* If the word exists, print its Spanish translation.\n",
        "* If the word does not exist, inform the user that the translation is not available.\n",
        "* Implement a loop that allows the user to keep looking up words until they choose to exit.\n"
      ]
    },
    {
      "cell_type": "code",
      "execution_count": 2,
      "metadata": {},
      "outputs": [
        {
          "name": "stdout",
          "output_type": "stream",
          "text": [
            "The Spanish translation of 'hello' is 'hola'.\n",
            "Sorry, the translation for 'hi' is not available in the dictionary.\n",
            "Exiting the dictionary. Goodbye!\n"
          ]
        }
      ],
      "source": [
        "# Create a dictionary with English words as keys and Spanish translations as values\n",
        "english_spanish_dict = {\n",
        "    'hello': 'hola',\n",
        "    'goodbye': 'adiós',\n",
        "    'please': 'por favor',\n",
        "    'thank you': 'gracias',\n",
        "    'yes': 'sí',\n",
        "    'no': 'no',\n",
        "    'apple': 'manzana',\n",
        "    'dog': 'perro',\n",
        "    'cat': 'gato',\n",
        "    'house': 'casa',\n",
        "    'book': 'libro',\n",
        "    'water': 'agua'\n",
        "}\n",
        "\n",
        "\n",
        "while True:\n",
        "\n",
        "    user_input = input(\"Enter an English word to translate (or type 'exit' to quit): \").lower()\n",
        "    \n",
        "    if user_input == 'exit':\n",
        "        print(\"Exiting the dictionary. Goodbye!\")\n",
        "        break\n",
        "    if user_input in english_spanish_dict:\n",
        "     \n",
        "        print(f\"The Spanish translation of '{user_input}' is '{english_spanish_dict[user_input]}'.\")\n",
        "    else:\n",
        "        \n",
        "        print(f\"Sorry, the translation for '{user_input}' is not available in the dictionary.\")\n"
      ]
    },
    {
      "cell_type": "markdown",
      "metadata": {
        "id": "l7D9aut90G_C"
      },
      "source": [
        "\n",
        "## Task 3 Email Classification\n",
        "Develope a tool which will classify an email.\n",
        "\n",
        "### Tasks:\n",
        "* Create a function classify_emails that takes a list of emails as an argument.\n",
        "* Inside the function, categorize emails into \"Important,\" \"Promotions,\" and \"Spam\" based on keywords and content analysis.\n",
        "* Loop through the emails and identify keywords to determine their category.\n",
        "* If an email contains keywords indicating importance, assign it as \"Important.\"\n",
        "* If an email contains keywords related to promotions or deals, assign it as \"Promotions.\"\n",
        "* If an email is suspected to be spam based on certain keywords or patterns, assign it as \"Spam.\"\n",
        "* Return three lists of emails for each category.\n",
        "* Print the lists."
      ]
    },
    {
      "cell_type": "code",
      "execution_count": 3,
      "metadata": {},
      "outputs": [
        {
          "name": "stdout",
          "output_type": "stream",
          "text": [
            "Important Emails:\n",
            "['Urgent: Please respond to this action required email.', \"Don't miss this important update on your account.\", 'Important: Please verify your account immediately.', 'Reminder: You have an action required email.']\n",
            "\n",
            "Promotions Emails:\n",
            "['Exclusive Offer: Get 50% off on all products - Sale ends today!', 'Free Money!!! Click here to claim your prize.', 'Limited time sale – Buy now and save big!']\n",
            "\n",
            "Spam Emails:\n",
            "['Congratulations! You have won the lottery. Claim your cash prize now.', 'Work from home and earn thousands of dollars every month.', \"50% off today only! Don't miss out on our amazing deals.\"]\n"
          ]
        }
      ],
      "source": [
        "\n",
        "def classify_emails(emails):\n",
        "    \n",
        "    important_emails = []\n",
        "    promotions_emails = []\n",
        "    spam_emails = []\n",
        "\n",
        "\n",
        "    important_keywords = ['urgent', 'important', 'action required', 'response needed']\n",
        "    promotions_keywords = ['offer', 'sale', 'discount', 'free', 'limited time', 'buy now']\n",
        "    spam_keywords = ['lottery', 'winner', 'cash prize', 'unsecured', 'free money', 'buy viagra', 'work from home']\n",
        "\n",
        "    for email in emails:\n",
        "        email_lower = email.lower()  \n",
        "\n",
        "       \n",
        "        if any(keyword in email_lower for keyword in important_keywords):\n",
        "            important_emails.append(email)\n",
        "       \n",
        "        elif any(keyword in email_lower for keyword in promotions_keywords):\n",
        "            promotions_emails.append(email)\n",
        "       \n",
        "        elif any(keyword in email_lower for keyword in spam_keywords):\n",
        "            spam_emails.append(email)\n",
        "        else:\n",
        "            \n",
        "            spam_emails.append(email)\n",
        "\n",
        " \n",
        "    return important_emails, promotions_emails, spam_emails\n",
        "\n",
        "\n",
        "emails = [\n",
        "    \"Urgent: Please respond to this action required email.\",\n",
        "    \"Exclusive Offer: Get 50% off on all products - Sale ends today!\",\n",
        "    \"Free Money!!! Click here to claim your prize.\",\n",
        "    \"Don't miss this important update on your account.\",\n",
        "    \"Limited time sale – Buy now and save big!\",\n",
        "    \"Congratulations! You have won the lottery. Claim your cash prize now.\",\n",
        "    \"Work from home and earn thousands of dollars every month.\",\n",
        "    \"Important: Please verify your account immediately.\",\n",
        "    \"50% off today only! Don't miss out on our amazing deals.\",\n",
        "    \"Reminder: You have an action required email.\"\n",
        "]\n",
        "\n",
        "\n",
        "important, promotions, spam = classify_emails(emails)\n",
        "\n",
        "\n",
        "print(\"Important Emails:\")\n",
        "print(important)\n",
        "print(\"\\nPromotions Emails:\")\n",
        "print(promotions)\n",
        "print(\"\\nSpam Emails:\")\n",
        "print(spam)\n"
      ]
    },
    {
      "cell_type": "markdown",
      "metadata": {
        "id": "0brD8K130gh8"
      },
      "source": [
        "## Task 4 Online Store Shopping Cart\n",
        "Write a Python program to simulate the online store's shopping cart system. The program should use a while loop to provide an interactive shopping experience.\n",
        "\n",
        "\n",
        "### Tasks:\n",
        "* Initialize an empty list called shopping_cart to store items.\n",
        "* Display a welcome message and available products.\n",
        "* Loop should be iterating over AI Response Simulator and Investment decision and keep asking for user input.\n",
        "* Prompt the user to enter the number corresponding to the product they want to add to the cart.\n",
        "* Check if the user entered 'q'. If so, break the loop.\n",
        "* Convert the choice to an integer and validate it within the valid range (1 to 3).\n",
        "* Based on the user's choice, add the selected product to the shopping_cart list.\n",
        "* Display a confirmation message indicating the added product.\n",
        "* Continue the loop to allow the user to add more products or proceed to checkout.\n",
        "* After the loop ends, display the contents of the shopping cart.\n",
        "* Display a goodbye message.\n",
        "* End the program."
      ]
    },
    {
      "cell_type": "code",
      "execution_count": 4,
      "metadata": {},
      "outputs": [
        {
          "name": "stdout",
          "output_type": "stream",
          "text": [
            "\n",
            "Welcome to the Online Store!\n",
            "Here are the available products:\n",
            "1. AI Response Simulator - $299\n",
            "2. Investment Decision Tool - $199\n",
            "3. Smart Speaker - $99\n",
            "Enter 'q' to quit the shopping cart.\n",
            "You added Investment Decision Tool to your cart.\n",
            "\n",
            "Welcome to the Online Store!\n",
            "Here are the available products:\n",
            "1. AI Response Simulator - $299\n",
            "2. Investment Decision Tool - $199\n",
            "3. Smart Speaker - $99\n",
            "Enter 'q' to quit the shopping cart.\n",
            "You added AI Response Simulator to your cart.\n",
            "\n",
            "Welcome to the Online Store!\n",
            "Here are the available products:\n",
            "1. AI Response Simulator - $299\n",
            "2. Investment Decision Tool - $199\n",
            "3. Smart Speaker - $99\n",
            "Enter 'q' to quit the shopping cart.\n",
            "You added Smart Speaker to your cart.\n",
            "\n",
            "Welcome to the Online Store!\n",
            "Here are the available products:\n",
            "1. AI Response Simulator - $299\n",
            "2. Investment Decision Tool - $199\n",
            "3. Smart Speaker - $99\n",
            "Enter 'q' to quit the shopping cart.\n",
            "\n",
            "Your shopping cart contains the following items:\n",
            "- Investment Decision Tool\n",
            "- AI Response Simulator\n",
            "- Smart Speaker\n",
            "\n",
            "Thank you for shopping with us! Goodbye!\n"
          ]
        }
      ],
      "source": [
        "\n",
        "shopping_cart = []\n",
        "\n",
        "\n",
        "def display_products():\n",
        "    print(\"\\nWelcome to the Online Store!\")\n",
        "    print(\"Here are the available products:\")\n",
        "    print(\"1. AI Response Simulator - $299\")\n",
        "    print(\"2. Investment Decision Tool - $199\")\n",
        "    print(\"3. Smart Speaker - $99\")\n",
        "    print(\"Enter 'q' to quit the shopping cart.\")\n",
        "\n",
        "\n",
        "while True:\n",
        "  \n",
        "    display_products()\n",
        "    \n",
        "    \n",
        "    user_input = input(\"\\nEnter the number of the product you want to add to your cart (1-3), or 'q' to quit: \").strip().lower()\n",
        "    \n",
        "    \n",
        "    if user_input == 'q':\n",
        "        break\n",
        "    \n",
        "    \n",
        "    if user_input == '1':\n",
        "        shopping_cart.append(\"AI Response Simulator\")\n",
        "        print(\"You added AI Response Simulator to your cart.\")\n",
        "    elif user_input == '2':\n",
        "        shopping_cart.append(\"Investment Decision Tool\")\n",
        "        print(\"You added Investment Decision Tool to your cart.\")\n",
        "    elif user_input == '3':\n",
        "        shopping_cart.append(\"Smart Speaker\")\n",
        "        print(\"You added Smart Speaker to your cart.\")\n",
        "    else:\n",
        "        print(\"Invalid choice. Please enter a valid number (1-3) or 'q' to quit.\")\n",
        "    \n",
        "\n",
        "if shopping_cart:\n",
        "    print(\"\\nYour shopping cart contains the following items:\")\n",
        "    for item in shopping_cart:\n",
        "        print(f\"- {item}\")\n",
        "else:\n",
        "    print(\"\\nYour shopping cart is empty.\")\n",
        "\n",
        "print(\"\\nThank you for shopping with us! Goodbye!\")\n"
      ]
    },
    {
      "cell_type": "markdown",
      "metadata": {
        "id": "2u1i-sXA0mYb"
      },
      "source": [
        "## Task 5\n",
        "* Create two NumPy arrays of the same shape and perform element-wise addition on them.\n",
        "* Calculate the element-wise product of two NumPy arrays."
      ]
    },
    {
      "cell_type": "code",
      "execution_count": null,
      "metadata": {},
      "outputs": [],
      "source": [
        "import numpy as np\n",
        "\n",
        "array1 = np.array([[1, 2, 3], [4, 5, 6]])\n",
        "array2 = np.array([[7, 8, 9], [10, 11, 12]])\n",
        "\n",
        "addition_result = array1 + array2\n",
        "product_result = array1 * array2\n",
        "\n",
        "print(\"Element-wise addition:\")\n",
        "print(addition_result)\n",
        "\n",
        "print(\"Element-wise product:\")\n",
        "print(product_result)\n"
      ]
    },
    {
      "cell_type": "code",
      "execution_count": null,
      "metadata": {},
      "outputs": [],
      "source": []
    },
    {
      "cell_type": "markdown",
      "metadata": {
        "id": "bhV4sIZU1Iui"
      },
      "source": [
        "## Task 6\n",
        "* Reshape a 1D NumPy array into a 2D array with dimensions (3, 4).\n",
        "\n",
        "* Concatenate two NumPy arrays horizontally and vertically."
      ]
    },
    {
      "cell_type": "markdown",
      "metadata": {
        "id": "HJYa0CKL1bGi"
      },
      "source": [
        "## Task 7\n",
        "* Reverse A List In Python Using Slicing\n"
      ]
    },
    {
      "cell_type": "markdown",
      "metadata": {
        "id": "hkrCxw4XSRl0"
      },
      "source": [
        "# TASK 8\n",
        "You need to download the GitHub Desktop software, push your lab task to your GitHub account, and share the link on GCR as a submission."
      ]
    }
  ],
  "metadata": {
    "colab": {
      "provenance": []
    },
    "kernelspec": {
      "display_name": "base",
      "language": "python",
      "name": "python3"
    },
    "language_info": {
      "codemirror_mode": {
        "name": "ipython",
        "version": 3
      },
      "file_extension": ".py",
      "mimetype": "text/x-python",
      "name": "python",
      "nbconvert_exporter": "python",
      "pygments_lexer": "ipython3",
      "version": "3.9.13"
    }
  },
  "nbformat": 4,
  "nbformat_minor": 0
}
